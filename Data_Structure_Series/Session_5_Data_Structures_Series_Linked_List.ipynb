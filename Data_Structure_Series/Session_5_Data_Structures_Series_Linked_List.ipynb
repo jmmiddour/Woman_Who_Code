{
  "nbformat": 4,
  "nbformat_minor": 0,
  "metadata": {
    "colab": {
      "name": "Live Session #5: Data Structures Series (Women Who Code Python).ipynb",
      "provenance": [],
      "collapsed_sections": []
    },
    "kernelspec": {
      "name": "python3",
      "display_name": "Python 3"
    },
    "language_info": {
      "name": "python"
    }
  },
  "cells": [
    {
      "cell_type": "markdown",
      "metadata": {
        "id": "7QfRFpXCTnbX"
      },
      "source": [
        "# Intro to Data Structures: Ace the Technical Interview\n",
        "\n",
        "## Session 5: Linked Lists"
      ]
    },
    {
      "cell_type": "markdown",
      "metadata": {
        "id": "vdBW00qXTtzx"
      },
      "source": [
        "### Agenda for Today:\n",
        "\n",
        "\n",
        "*   Singly Linked Lists\n",
        "*   Insertion\n",
        "*   Deletion\n",
        "*   Practice Question: Reverse a Linked List\n",
        "\n"
      ]
    },
    {
      "cell_type": "markdown",
      "metadata": {
        "id": "wpRNgp9nTzg4"
      },
      "source": [
        "\n",
        "\n",
        "---\n",
        "\n",
        "\n",
        "\n",
        "---\n",
        "\n"
      ]
    },
    {
      "cell_type": "markdown",
      "metadata": {
        "id": "-5Ya0UGlT5oj"
      },
      "source": [
        "#### Singly Linked Lists:"
      ]
    },
    {
      "cell_type": "code",
      "metadata": {
        "id": "Ksaw5SLzTSMO"
      },
      "source": [
        "# Create a Class to represent an Element or Node of a Linked List\n",
        "\n",
        "class Node:\n",
        "    # Initialize the Node class\n",
        "    def __init__(self, data=None):\n",
        "        # Initialize the data parameter\n",
        "        self.data = data\n",
        "        # Initialize the next function\n",
        "        self.next = None"
      ],
      "execution_count": 1,
      "outputs": []
    },
    {
      "cell_type": "code",
      "metadata": {
        "id": "HB5gZevX3Rn8"
      },
      "source": [
        "# Create a Class to represent a Singly Linked List\n",
        "\n",
        "# Add a function to traverse the List and print its elements\n",
        "\n",
        "class SinglyLinkedList:\n",
        "    # Initialize the SinglyLinkedList class\n",
        "    def __init__(self):\n",
        "        # Initialize the head function\n",
        "        self.head = None\n",
        "        # Initialize the length of the linked list\n",
        "        self.length = 0\n",
        "  \n",
        "    # Create a method to print the linked list\n",
        "    def print_list(self):\n",
        "        # Create a pointer for the linked list, initialize it at the head\n",
        "        pointer = self.head\n",
        "\n",
        "        # While there is still a value that the pointer is pointing at\n",
        "        while pointer is not None:\n",
        "            # Print the current node's value\n",
        "            print(pointer.data, end=' -> ')\n",
        "            # Move the pointer to the next node in the linked list\n",
        "            pointer = pointer.next\n",
        "        \n",
        "        # Printed all the nodes and finised travering the linked list\n",
        "        print('None')"
      ],
      "execution_count": 2,
      "outputs": []
    },
    {
      "cell_type": "code",
      "metadata": {
        "id": "J68KFPYJCqGb",
        "colab": {
          "base_uri": "https://localhost:8080/"
        },
        "outputId": "57728a7f-b539-4359-e48e-677147967183"
      },
      "source": [
        "# Create an Instance of the Linked List\n",
        "linked_list = SinglyLinkedList()\n",
        "\n",
        "# Print the Linked List\n",
        "linked_list.print_list()\n",
        "\n",
        "# Will print Null bacause we did not add any value to the linked list yet"
      ],
      "execution_count": 3,
      "outputs": [
        {
          "output_type": "stream",
          "text": [
            "None\n"
          ],
          "name": "stdout"
        }
      ]
    },
    {
      "cell_type": "code",
      "metadata": {
        "id": "VdCXr2PxC1Mw",
        "colab": {
          "base_uri": "https://localhost:8080/"
        },
        "outputId": "c36e27af-f848-4906-cc77-1c7c991488ec"
      },
      "source": [
        "# Create a Node to represent the head of the Linked List\n",
        "linked_list.head = Node(5)\n",
        "\n",
        "# Print the Linked List\n",
        "linked_list.print_list()"
      ],
      "execution_count": 4,
      "outputs": [
        {
          "output_type": "stream",
          "text": [
            "5 -> None\n"
          ],
          "name": "stdout"
        }
      ]
    },
    {
      "cell_type": "markdown",
      "metadata": {
        "id": "BKxG6wjOT-Bb"
      },
      "source": [
        "\n",
        "\n",
        "---\n",
        "\n",
        "\n",
        "\n",
        "---\n",
        "\n"
      ]
    },
    {
      "cell_type": "markdown",
      "metadata": {
        "id": "13EoG-b1T_k8"
      },
      "source": [
        "#### Insertion:"
      ]
    },
    {
      "cell_type": "code",
      "metadata": {
        "id": "GS14mvtxAsdT"
      },
      "source": [
        "# Creates a new SingleLinkedList class with more methods\n",
        "class SinglyLinkedList:\n",
        "    # Initialize the class\n",
        "    def __init__(self):\n",
        "        # Initialize the head, currently pointing to nothing\n",
        "        self.head = None\n",
        "        # Initialize the length of the linked list to 0, no node added yet\n",
        "        self.length = 0\n",
        "\n",
        "    \n",
        "    # Define a method to insert a new node at the beginning of the linked list\n",
        "    #   A function to insert at the Beginning\n",
        "    def insert_beginning(self,data):\n",
        "        # Create a new_node with the data passed in using the Node class\n",
        "        new_node = Node(data)\n",
        "        # Point the new node's next pointer to the head of the linked list\n",
        "        new_node.next = self.head\n",
        "        # Assign the head pointer to the new_node, this is now our new head\n",
        "        self.head = new_node\n",
        "        # Increment the length of the linked list by 1 for the new node\n",
        "        self.length += 1\n",
        "\n",
        "    \n",
        "    # Define a method to insert a new node at the end of the linked list\n",
        "    #   A function to insert at the End\n",
        "    def insert_end(self,data):\n",
        "        # Create a new node with the data passed in using the Node class\n",
        "        new_node = Node(data)\n",
        "        # Create a pointer to point at the current node, initialize to head\n",
        "        pointer = self.head\n",
        "\n",
        "        # While there is a next node...\n",
        "        while pointer.next is not None:\n",
        "            # Move the pointer to point at the next node\n",
        "            pointer = pointer.next\n",
        "\n",
        "        # Point the pointer's next to the new node, we are at the end of the linked list\n",
        "        pointer.next = new_node\n",
        "        # Increment the length of the linked list by 1 for the new node\n",
        "        self.length += 1\n",
        "\n",
        "    \n",
        "    # Define a method to insert a new node at a certain position in the linked list\n",
        "    #   A function to insert at a given position\n",
        "    def insert_at_position(self,data,position):\n",
        "        # Create a new node with the data passed in using the Node class\n",
        "        new_node = Node(data)\n",
        "        # Create a pointer to point at the current node, initialize to head\n",
        "        pointer = self.head\n",
        "        # Create a counter variable to keep track of where we are in the linked list\n",
        "        count = 1\n",
        "\n",
        "        # While the counter < the position where value needs to be inserted\n",
        "        while count < position - 1:\n",
        "            # Move the pointer to point at the next node\n",
        "            pointer = pointer.next\n",
        "            # Increment the counter by 1 to keep track of our current position\n",
        "            count += 1\n",
        "\n",
        "        # We have reached the position where we will insert the new node\n",
        "        #   The new node is where the pointer points to next\n",
        "        new_node = pointer.next\n",
        "        # The pointer's next is now pointing at the new node\n",
        "        pointer.next = new_node\n",
        "        # Increment the length by 1 to account for the new node\n",
        "        self.length += 1\n",
        "\n",
        "    \n",
        "    # Define a method to print the linked list\n",
        "    def print_list(self):\n",
        "        # Create a pointer at the current node, initialized to the head\n",
        "        pointer = self.head\n",
        "\n",
        "        # While there are still nodes in the linked list...\n",
        "        while pointer is not None:\n",
        "            # Print the current value and ` -> ` to print in a specific format\n",
        "            print(pointer.data,end=' -> ')\n",
        "            # Point the pointer to the pointer's next node\n",
        "            pointer = pointer.next\n",
        "\n",
        "        # We have reached the end of the linked list\n",
        "        #   Print out None to mark that we are at the end of the linked list\n",
        "        print('None')"
      ],
      "execution_count": 5,
      "outputs": []
    },
    {
      "cell_type": "code",
      "metadata": {
        "id": "_zu-ZUGhT-mg",
        "colab": {
          "base_uri": "https://localhost:8080/"
        },
        "outputId": "b6e45d08-465f-4a8f-87b0-3d74e8f815ee"
      },
      "source": [
        "# Create a instance of the Singly Linked List\n",
        "linkedlist = SinglyLinkedList()\n",
        "\n",
        "# Insert an element at the beginning\n",
        "linkedlist.insert_beginning(1)\n",
        "\n",
        "# Print the Linked List\n",
        "linkedlist.print_list()"
      ],
      "execution_count": 6,
      "outputs": [
        {
          "output_type": "stream",
          "text": [
            "1 -> None\n"
          ],
          "name": "stdout"
        }
      ]
    },
    {
      "cell_type": "code",
      "metadata": {
        "id": "Dcuc-CfHBL16",
        "colab": {
          "base_uri": "https://localhost:8080/"
        },
        "outputId": "b32154c5-7f48-421f-bdc5-3a39a8b9b3f2"
      },
      "source": [
        "# Insert Elements at the end of the Linked List\n",
        "linkedlist.insert_end(2)\n",
        "linkedlist.insert_end(3)\n",
        "\n",
        "# Print the Linked List\n",
        "linkedlist.print_list()"
      ],
      "execution_count": 7,
      "outputs": [
        {
          "output_type": "stream",
          "text": [
            "1 -> 2 -> 3 -> None\n"
          ],
          "name": "stdout"
        }
      ]
    },
    {
      "cell_type": "code",
      "metadata": {
        "id": "Fk04tFNKBPu-",
        "colab": {
          "base_uri": "https://localhost:8080/"
        },
        "outputId": "d2ed14a9-c139-44ef-89e2-725b03bf0d59"
      },
      "source": [
        "# Insert Elements at a given position\n",
        "linkedlist.insert_at_position(1.5,2)\n",
        "\n",
        "# Print the Linked List\n",
        "linkedlist.print_list()"
      ],
      "execution_count": 8,
      "outputs": [
        {
          "output_type": "stream",
          "text": [
            "1 -> 2 -> 3 -> None\n"
          ],
          "name": "stdout"
        }
      ]
    },
    {
      "cell_type": "markdown",
      "metadata": {
        "id": "KG0Ru0MjUChz"
      },
      "source": [
        "\n",
        "\n",
        "---\n",
        "\n",
        "\n",
        "\n",
        "---\n",
        "\n"
      ]
    },
    {
      "cell_type": "markdown",
      "metadata": {
        "id": "7oMRijHDAyix"
      },
      "source": [
        "### Deletion:"
      ]
    },
    {
      "cell_type": "code",
      "metadata": {
        "id": "Ph4CYw_GA38v"
      },
      "source": [
        "# Create another SinglyLinkedList class with new methods\n",
        "class SinglyLinkedList:\n",
        "    # Initialize the class\n",
        "    def __init__(self):\n",
        "        # Initialize the head, currently pointing to nothing\n",
        "        self.head = None\n",
        "        # Initialize the length of the linked list to 0, no node added yet\n",
        "        self.length = 0\n",
        "\n",
        "    \n",
        "    # Define a method to insert a new node at the beginning of the linked list\n",
        "    #   A function to insert at the Beginning\n",
        "    def insert_beginning(self,data):\n",
        "        # Create a new_node with the data passed in using the Node class\n",
        "        new_node = Node(data)\n",
        "        # Point the new node's next pointer to the head of the linked list\n",
        "        new_node.next = self.head\n",
        "        # Assign the head pointer to the new_node, this is now our new head\n",
        "        self.head = new_node\n",
        "        # Increment the length of the linked list by 1 for the new node\n",
        "        self.length += 1\n",
        "\n",
        "    \n",
        "    # Define a method to insert a new node at the end of the linked list\n",
        "    #   A function to insert at the End\n",
        "    def insert_end(self,data):\n",
        "        # Create a new node with the data passed in using the Node class\n",
        "        new_node = Node(data)\n",
        "        # Create a pointer to point at the current node, initialize to head\n",
        "        pointer = self.head\n",
        "\n",
        "        # While there is a next node...\n",
        "        while pointer.next is not None:\n",
        "            # Move the pointer to point at the next node\n",
        "            pointer = pointer.next\n",
        "\n",
        "        # Point the pointer's next to the new node, we are at the end of the linked list\n",
        "        pointer.next = new_node\n",
        "        # Increment the length of the linked list by 1 for the new node\n",
        "        self.length += 1\n",
        "\n",
        "    \n",
        "    # Define a method to insert a new node at a certain position in the linked list\n",
        "    #   A function to insert at a given position\n",
        "    def insert_at_position(self,data,position):\n",
        "        # Create a new node with the data passed in using the Node class\n",
        "        new_node = Node(data)\n",
        "        # Create a pointer to point at the current node, initialize to head\n",
        "        pointer = self.head\n",
        "        # Create a counter variable to keep track of where we are in the linked list\n",
        "        count = 1\n",
        "\n",
        "        # While the counter < the position where value needs to be inserted\n",
        "        while count < position - 1:\n",
        "            # Move the pointer to point at the next node\n",
        "            pointer = pointer.next\n",
        "            # Increment the counter by 1 to keep track of our current position\n",
        "            count += 1\n",
        "\n",
        "        # We have reached the position where we will insert the new node\n",
        "        #   The new node is where the pointer points to next\n",
        "        new_node = pointer.next\n",
        "        # The pointer's next is now pointing at the new node\n",
        "        pointer.next = new_node\n",
        "        # Increment the length by 1 to account for the new node\n",
        "        self.length += 1\n",
        "\n",
        "    \n",
        "    # Define a method to print the linked list\n",
        "    def print_list(self):\n",
        "        # Create a pointer at the current node, initialized to the head\n",
        "        pointer = self.head\n",
        "\n",
        "        # While there are still nodes in the linked list...\n",
        "        while pointer is not None:\n",
        "            # Print the current value and ` -> ` to print in a specific format\n",
        "            print(pointer.data,end=' -> ')\n",
        "            # Point the pointer to the pointer's next node\n",
        "            pointer = pointer.next\n",
        "\n",
        "        # We have reached the end of the linked list\n",
        "        #   Print out None to mark that we are at the end of the linked list\n",
        "        print('None')\n",
        "\n",
        "\n",
        "    # Define a method to delete a Node by locating the node through its value\n",
        "    def delete_node_value(self,value):\n",
        "        # Create a pointer to point to current node, initiatize at head\n",
        "        pointer = self.head\n",
        "\n",
        "        # While there is still nodes to traverse and not at the value given...\n",
        "        while (pointer.next is not None) and (pointer.next.data != value):\n",
        "            # Move the pointer to the next node of the current node\n",
        "            pointer = pointer.next\n",
        "\n",
        "        # If the value is at the next node, we found the value\n",
        "        if pointer.next.data == value:\n",
        "            # Point the current next pointer to the next node's next node\n",
        "            pointer.next = pointer.next.next\n",
        "\n",
        "        # Decrement the length of the linked list by 1\n",
        "        self.length -= 1\n",
        "    \n",
        "    # Define a method to delete a Node by locating the node by it's position\n",
        "    def delete_node_at_position(self,position):\n",
        "        # Create a pointer to point to the current node, initialize at head\n",
        "        pointer = self.head\n",
        "        # Create a counter variable to keep track of our position\n",
        "        count = 1\n",
        "\n",
        "        # While the counter < the position passed in\n",
        "        while count < (position - 1):\n",
        "            # Move the pointer to point at the next node\n",
        "            pointer = pointer.next\n",
        "            # Incement the counter to keep track of current position\n",
        "            count += 1\n",
        "\n",
        "        # Point the pointers next to the next node's next node\n",
        "        pointer.next = pointer.next.next\n",
        "\n",
        "        # Decrement the length of the linked list\n",
        "        self.length -= 1\n"
      ],
      "execution_count": 9,
      "outputs": []
    },
    {
      "cell_type": "code",
      "metadata": {
        "id": "7UFTBBbGCRZm",
        "colab": {
          "base_uri": "https://localhost:8080/"
        },
        "outputId": "26004794-8bf5-4773-c581-dc716e8a28da"
      },
      "source": [
        "# Create a instance of the Singly Linked List\n",
        "linkedlist = SinglyLinkedList()\n",
        "\n",
        "# Insert an element at the beginning\n",
        "linkedlist.insert_beginning(1)\n",
        "linkedlist.insert_beginning(2)\n",
        "linkedlist.insert_beginning(3)\n",
        "linkedlist.insert_beginning(4)\n",
        "linkedlist.insert_beginning(5)\n",
        "\n",
        "# Print the Linked List\n",
        "linkedlist.print_list()"
      ],
      "execution_count": 10,
      "outputs": [
        {
          "output_type": "stream",
          "text": [
            "5 -> 4 -> 3 -> 2 -> 1 -> None\n"
          ],
          "name": "stdout"
        }
      ]
    },
    {
      "cell_type": "code",
      "metadata": {
        "id": "goX0K0VbBIc4",
        "colab": {
          "base_uri": "https://localhost:8080/"
        },
        "outputId": "181a16d0-b42d-461b-e799-70455d108682"
      },
      "source": [
        "# Delete a Node based on its position\n",
        "linkedlist.delete_node_at_position(3)\n",
        "\n",
        "# Print the Linked List\n",
        "linkedlist.print_list()"
      ],
      "execution_count": 11,
      "outputs": [
        {
          "output_type": "stream",
          "text": [
            "5 -> 4 -> 2 -> 1 -> None\n"
          ],
          "name": "stdout"
        }
      ]
    },
    {
      "cell_type": "code",
      "metadata": {
        "id": "LTQhQuCAEaHE",
        "colab": {
          "base_uri": "https://localhost:8080/"
        },
        "outputId": "21cb75cc-4ddc-4534-fb98-72b52a832d18"
      },
      "source": [
        "# Delete node by the value\n",
        "linkedlist.delete_node_value(2)\n",
        "\n",
        "# Print the linked list now\n",
        "linkedlist.print_list()"
      ],
      "execution_count": 12,
      "outputs": [
        {
          "output_type": "stream",
          "text": [
            "5 -> 4 -> 1 -> None\n"
          ],
          "name": "stdout"
        }
      ]
    },
    {
      "cell_type": "markdown",
      "metadata": {
        "id": "p0ow6GaxEGI_"
      },
      "source": [
        "\n",
        "\n",
        "---\n",
        "\n",
        "\n",
        "\n",
        "---\n",
        "\n"
      ]
    },
    {
      "cell_type": "markdown",
      "metadata": {
        "id": "ARrtPuWPEI13"
      },
      "source": [
        "### Practice Question: Reversing a Linked List"
      ]
    },
    {
      "cell_type": "code",
      "metadata": {
        "id": "rex5BmaFGs1c"
      },
      "source": [
        "# The task is to reverse a Singly Linked List\n",
        "# Points to remember:\n",
        "#     * We can access the Linked List through the HEAD\n",
        "#     * Each node has a pointer only to the next node"
      ],
      "execution_count": 13,
      "outputs": []
    },
    {
      "cell_type": "code",
      "metadata": {
        "id": "O1pFTjMRHcUM",
        "colab": {
          "base_uri": "https://localhost:8080/",
          "height": 52
        },
        "outputId": "6433a3c3-f3ff-41c1-bdc8-2df55ac4c036"
      },
      "source": [
        "\"\"\"\n",
        "prev, nextm current\n",
        "\n",
        "prev = Null\n",
        "current = head\n",
        "\n",
        "        5 -> 4 -> 3 -> 2 -> 1 -> Null\n",
        "current ^\n",
        "\n",
        "        5 -> 4 -> 3 -> 2 -> 1 -> Null\n",
        "current ^\n",
        "        next ^\n",
        "\"\"\"\n",
        "\"\"\"\n",
        "previous = Null\n",
        "current = head\n",
        "\n",
        "# Start loop, continue until previous is None\n",
        "    next = current.next\n",
        "    current.next = previous\n",
        "    previous = current\n",
        "    current = next\n",
        "# End loop\n",
        "# head = previous\n",
        "\"\"\""
      ],
      "execution_count": 14,
      "outputs": [
        {
          "output_type": "execute_result",
          "data": {
            "application/vnd.google.colaboratory.intrinsic+json": {
              "type": "string"
            },
            "text/plain": [
              "'\\nprevious = Null\\ncurrent = head\\n\\n# Start loop, continue until previous is None\\n    next = current.next\\n    current.next = previous\\n    previous = current\\n    current = next\\n# End loop\\n# head = previous\\n'"
            ]
          },
          "metadata": {
            "tags": []
          },
          "execution_count": 14
        }
      ]
    },
    {
      "cell_type": "markdown",
      "metadata": {
        "id": "V5WaF8uNNsJZ"
      },
      "source": [
        "![picture](https://media.geeksforgeeks.org/wp-content/cdn-uploads/RGIF2.gif)"
      ]
    },
    {
      "cell_type": "code",
      "metadata": {
        "id": "xe9tDdeZ4Hwv"
      },
      "source": [
        "# ![picture](https://media.geeksforgeeks.org/wp-content/cdn-uploads/RGIF2.gif)"
      ],
      "execution_count": 15,
      "outputs": []
    },
    {
      "cell_type": "code",
      "metadata": {
        "id": "dtQ7iMBlGqGC"
      },
      "source": [
        "# Define a function to reverse a linked list\n",
        "def reverse():\n",
        "    # Create a previous pointer, initialize with None\n",
        "    previous = None\n",
        "    # Create a current pointer, initialize at the head\n",
        "    current = self.head\n",
        "\n",
        "    # While there is still a node\n",
        "    while (current is not None):\n",
        "        # Point the next pointer at the current node's next node\n",
        "        next = current.next\n",
        "        # Point the current node's next pointer to the previous pointer\n",
        "        current.next = previous\n",
        "        # Point the previous pointer to the current node\n",
        "        previous = current\n",
        "        # Point the current pointer to the next pointer\n",
        "        current = next\n",
        "\n",
        "    # Point the head pointer to the previous pointer\n",
        "    self.head = previous"
      ],
      "execution_count": 16,
      "outputs": []
    },
    {
      "cell_type": "code",
      "metadata": {
        "id": "lhisrO4GETIJ"
      },
      "source": [
        "class SinglyLinkedList:\n",
        "    # Initialize the class\n",
        "    def __init__(self):\n",
        "        # Initialize the head, currently pointing to nothing\n",
        "        self.head = None\n",
        "        # Initialize the length of the linked list to 0, no node added yet\n",
        "        self.length = 0\n",
        "\n",
        "    \n",
        "    # Define a method to insert a new node at the beginning of the linked list\n",
        "    #   A function to insert at the Beginning\n",
        "    def insert_beginning(self,data):\n",
        "        # Create a new_node with the data passed in using the Node class\n",
        "        new_node = Node(data)\n",
        "        # Point the new node's next pointer to the head of the linked list\n",
        "        new_node.next = self.head\n",
        "        # Assign the head pointer to the new_node, this is now our new head\n",
        "        self.head = new_node\n",
        "        # Increment the length of the linked list by 1 for the new node\n",
        "        self.length += 1\n",
        "\n",
        "\n",
        "    # Define a method to print the linked list\n",
        "    def print_list(self):\n",
        "        # Create a pointer at the current node, initialized to the head\n",
        "        pointer = self.head\n",
        "\n",
        "        # While there are still nodes in the linked list...\n",
        "        while pointer is not None:\n",
        "            # Print the current value and ` -> ` to print in a specific format\n",
        "            print(pointer.data,end=' -> ')\n",
        "            # Point the pointer to the pointer's next node\n",
        "            pointer = pointer.next\n",
        "\n",
        "        # We have reached the end of the linked list\n",
        "        #   Print out None to mark that we are at the end of the linked list\n",
        "        print('None')\n",
        "\n",
        "\n",
        "    # Define a method to reverse a linked list\n",
        "    def reverse(self):\n",
        "        # Create a previous pointer, initialize with None\n",
        "        previous = None\n",
        "        # Create a current pointer, initialize at the head\n",
        "        current = self.head\n",
        "\n",
        "        # While there is still a node\n",
        "        while (current is not None):\n",
        "            # Point the next pointer at the current node's next node\n",
        "            next = current.next\n",
        "            # Point the current node's next pointer to the previous pointer\n",
        "            current.next = previous\n",
        "            # Point the previous pointer to the current node\n",
        "            previous = current\n",
        "            # Point the current pointer to the next pointer\n",
        "            current = next\n",
        "\n",
        "        # Point the head pointer to the previous pointer\n",
        "        self.head = previous"
      ],
      "execution_count": 17,
      "outputs": []
    },
    {
      "cell_type": "code",
      "metadata": {
        "id": "njIz65IKF8Bq",
        "colab": {
          "base_uri": "https://localhost:8080/"
        },
        "outputId": "a212a0e7-69bd-4c3c-d401-f97aae994690"
      },
      "source": [
        "# Create a instance of the Singly Linked List\n",
        "linkedlist = SinglyLinkedList()\n",
        "\n",
        "# Insert an element at the beginning\n",
        "linkedlist.insert_beginning(1)\n",
        "linkedlist.insert_beginning(2)\n",
        "linkedlist.insert_beginning(3)\n",
        "linkedlist.insert_beginning(4)\n",
        "linkedlist.insert_beginning(5)\n",
        "\n",
        "# Print the Linked List\n",
        "linkedlist.print_list()"
      ],
      "execution_count": 18,
      "outputs": [
        {
          "output_type": "stream",
          "text": [
            "5 -> 4 -> 3 -> 2 -> 1 -> None\n"
          ],
          "name": "stdout"
        }
      ]
    },
    {
      "cell_type": "code",
      "metadata": {
        "id": "uyk62TNeJpDD",
        "colab": {
          "base_uri": "https://localhost:8080/"
        },
        "outputId": "9a63f6be-e1c1-4109-d42d-5f7244dcbccb"
      },
      "source": [
        "# Reverse the Linked List\n",
        "linkedlist.reverse()\n",
        "\n",
        "# Print the Linked List\n",
        "linkedlist.print_list()"
      ],
      "execution_count": 19,
      "outputs": [
        {
          "output_type": "stream",
          "text": [
            "1 -> 2 -> 3 -> 4 -> 5 -> None\n"
          ],
          "name": "stdout"
        }
      ]
    },
    {
      "cell_type": "markdown",
      "metadata": {
        "id": "PafeVhR_UHdz"
      },
      "source": [
        "#### Interview Questions & Further Reading:"
      ]
    },
    {
      "cell_type": "markdown",
      "metadata": {
        "id": "N9x8d-KfUL3D"
      },
      "source": [
        "\n",
        "\n",
        "1.   [Detect a loop in linked list](https://leetcode.com/problems/linked-list-cycle/)\n",
        "2.   [Find the middle element of a Linked List](https://leetcode.com/problems/middle-of-the-linked-list/)\n",
        "3.   [Check if the Linked List is a palindrome](https://leetcode.com/problems/palindrome-linked-list/)\n",
        "\n",
        "\n"
      ]
    }
  ]
}